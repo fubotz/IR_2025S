{
  "nbformat": 4,
  "nbformat_minor": 0,
  "metadata": {
    "colab": {
      "provenance": [],
      "include_colab_link": true
    },
    "kernelspec": {
      "name": "python3",
      "display_name": "Python 3"
    },
    "language_info": {
      "name": "python"
    },
    "widgets": {
      "application/vnd.jupyter.widget-state+json": {
        "c73c0f0f041e4f63bdc620b3540dd177": {
          "model_module": "@jupyter-widgets/controls",
          "model_name": "HBoxModel",
          "model_module_version": "1.5.0",
          "state": {
            "_dom_classes": [],
            "_model_module": "@jupyter-widgets/controls",
            "_model_module_version": "1.5.0",
            "_model_name": "HBoxModel",
            "_view_count": null,
            "_view_module": "@jupyter-widgets/controls",
            "_view_module_version": "1.5.0",
            "_view_name": "HBoxView",
            "box_style": "",
            "children": [
              "IPY_MODEL_9825a9b337524b9eacac771161c6c276",
              "IPY_MODEL_610b220ccacd4f8fa8819721c0e600f4",
              "IPY_MODEL_9275f502b0344118a320fd664f446c33"
            ],
            "layout": "IPY_MODEL_46174a9b9e3f4b5da1488ae35c79ea03"
          }
        },
        "9825a9b337524b9eacac771161c6c276": {
          "model_module": "@jupyter-widgets/controls",
          "model_name": "HTMLModel",
          "model_module_version": "1.5.0",
          "state": {
            "_dom_classes": [],
            "_model_module": "@jupyter-widgets/controls",
            "_model_module_version": "1.5.0",
            "_model_name": "HTMLModel",
            "_view_count": null,
            "_view_module": "@jupyter-widgets/controls",
            "_view_module_version": "1.5.0",
            "_view_name": "HTMLView",
            "description": "",
            "description_tooltip": null,
            "layout": "IPY_MODEL_b29ade6a8a72415c8b3f9b3b0f3bff31",
            "placeholder": "​",
            "style": "IPY_MODEL_767aa2df62fa41ba99175ec2c1d84034",
            "value": "100%"
          }
        },
        "610b220ccacd4f8fa8819721c0e600f4": {
          "model_module": "@jupyter-widgets/controls",
          "model_name": "FloatProgressModel",
          "model_module_version": "1.5.0",
          "state": {
            "_dom_classes": [],
            "_model_module": "@jupyter-widgets/controls",
            "_model_module_version": "1.5.0",
            "_model_name": "FloatProgressModel",
            "_view_count": null,
            "_view_module": "@jupyter-widgets/controls",
            "_view_module_version": "1.5.0",
            "_view_name": "ProgressView",
            "bar_style": "success",
            "description": "",
            "description_tooltip": null,
            "layout": "IPY_MODEL_c927f85a77154fccab5262f114064c6d",
            "max": 1,
            "min": 0,
            "orientation": "horizontal",
            "style": "IPY_MODEL_f087ba2657ae481eb5df7e325bb6f428",
            "value": 1
          }
        },
        "9275f502b0344118a320fd664f446c33": {
          "model_module": "@jupyter-widgets/controls",
          "model_name": "HTMLModel",
          "model_module_version": "1.5.0",
          "state": {
            "_dom_classes": [],
            "_model_module": "@jupyter-widgets/controls",
            "_model_module_version": "1.5.0",
            "_model_name": "HTMLModel",
            "_view_count": null,
            "_view_module": "@jupyter-widgets/controls",
            "_view_module_version": "1.5.0",
            "_view_name": "HTMLView",
            "description": "",
            "description_tooltip": null,
            "layout": "IPY_MODEL_81b951509bd541f69ac405b8a0cf166d",
            "placeholder": "​",
            "style": "IPY_MODEL_3a59935e9e714a43b26a8ab2d17b0bea",
            "value": " 1/1 [00:00&lt;00:00, 65.66it/s]"
          }
        },
        "46174a9b9e3f4b5da1488ae35c79ea03": {
          "model_module": "@jupyter-widgets/base",
          "model_name": "LayoutModel",
          "model_module_version": "1.2.0",
          "state": {
            "_model_module": "@jupyter-widgets/base",
            "_model_module_version": "1.2.0",
            "_model_name": "LayoutModel",
            "_view_count": null,
            "_view_module": "@jupyter-widgets/base",
            "_view_module_version": "1.2.0",
            "_view_name": "LayoutView",
            "align_content": null,
            "align_items": null,
            "align_self": null,
            "border": null,
            "bottom": null,
            "display": null,
            "flex": null,
            "flex_flow": null,
            "grid_area": null,
            "grid_auto_columns": null,
            "grid_auto_flow": null,
            "grid_auto_rows": null,
            "grid_column": null,
            "grid_gap": null,
            "grid_row": null,
            "grid_template_areas": null,
            "grid_template_columns": null,
            "grid_template_rows": null,
            "height": null,
            "justify_content": null,
            "justify_items": null,
            "left": null,
            "margin": null,
            "max_height": null,
            "max_width": null,
            "min_height": null,
            "min_width": null,
            "object_fit": null,
            "object_position": null,
            "order": null,
            "overflow": null,
            "overflow_x": null,
            "overflow_y": null,
            "padding": null,
            "right": null,
            "top": null,
            "visibility": null,
            "width": null
          }
        },
        "b29ade6a8a72415c8b3f9b3b0f3bff31": {
          "model_module": "@jupyter-widgets/base",
          "model_name": "LayoutModel",
          "model_module_version": "1.2.0",
          "state": {
            "_model_module": "@jupyter-widgets/base",
            "_model_module_version": "1.2.0",
            "_model_name": "LayoutModel",
            "_view_count": null,
            "_view_module": "@jupyter-widgets/base",
            "_view_module_version": "1.2.0",
            "_view_name": "LayoutView",
            "align_content": null,
            "align_items": null,
            "align_self": null,
            "border": null,
            "bottom": null,
            "display": null,
            "flex": null,
            "flex_flow": null,
            "grid_area": null,
            "grid_auto_columns": null,
            "grid_auto_flow": null,
            "grid_auto_rows": null,
            "grid_column": null,
            "grid_gap": null,
            "grid_row": null,
            "grid_template_areas": null,
            "grid_template_columns": null,
            "grid_template_rows": null,
            "height": null,
            "justify_content": null,
            "justify_items": null,
            "left": null,
            "margin": null,
            "max_height": null,
            "max_width": null,
            "min_height": null,
            "min_width": null,
            "object_fit": null,
            "object_position": null,
            "order": null,
            "overflow": null,
            "overflow_x": null,
            "overflow_y": null,
            "padding": null,
            "right": null,
            "top": null,
            "visibility": null,
            "width": null
          }
        },
        "767aa2df62fa41ba99175ec2c1d84034": {
          "model_module": "@jupyter-widgets/controls",
          "model_name": "DescriptionStyleModel",
          "model_module_version": "1.5.0",
          "state": {
            "_model_module": "@jupyter-widgets/controls",
            "_model_module_version": "1.5.0",
            "_model_name": "DescriptionStyleModel",
            "_view_count": null,
            "_view_module": "@jupyter-widgets/base",
            "_view_module_version": "1.2.0",
            "_view_name": "StyleView",
            "description_width": ""
          }
        },
        "c927f85a77154fccab5262f114064c6d": {
          "model_module": "@jupyter-widgets/base",
          "model_name": "LayoutModel",
          "model_module_version": "1.2.0",
          "state": {
            "_model_module": "@jupyter-widgets/base",
            "_model_module_version": "1.2.0",
            "_model_name": "LayoutModel",
            "_view_count": null,
            "_view_module": "@jupyter-widgets/base",
            "_view_module_version": "1.2.0",
            "_view_name": "LayoutView",
            "align_content": null,
            "align_items": null,
            "align_self": null,
            "border": null,
            "bottom": null,
            "display": null,
            "flex": null,
            "flex_flow": null,
            "grid_area": null,
            "grid_auto_columns": null,
            "grid_auto_flow": null,
            "grid_auto_rows": null,
            "grid_column": null,
            "grid_gap": null,
            "grid_row": null,
            "grid_template_areas": null,
            "grid_template_columns": null,
            "grid_template_rows": null,
            "height": null,
            "justify_content": null,
            "justify_items": null,
            "left": null,
            "margin": null,
            "max_height": null,
            "max_width": null,
            "min_height": null,
            "min_width": null,
            "object_fit": null,
            "object_position": null,
            "order": null,
            "overflow": null,
            "overflow_x": null,
            "overflow_y": null,
            "padding": null,
            "right": null,
            "top": null,
            "visibility": null,
            "width": null
          }
        },
        "f087ba2657ae481eb5df7e325bb6f428": {
          "model_module": "@jupyter-widgets/controls",
          "model_name": "ProgressStyleModel",
          "model_module_version": "1.5.0",
          "state": {
            "_model_module": "@jupyter-widgets/controls",
            "_model_module_version": "1.5.0",
            "_model_name": "ProgressStyleModel",
            "_view_count": null,
            "_view_module": "@jupyter-widgets/base",
            "_view_module_version": "1.2.0",
            "_view_name": "StyleView",
            "bar_color": null,
            "description_width": ""
          }
        },
        "81b951509bd541f69ac405b8a0cf166d": {
          "model_module": "@jupyter-widgets/base",
          "model_name": "LayoutModel",
          "model_module_version": "1.2.0",
          "state": {
            "_model_module": "@jupyter-widgets/base",
            "_model_module_version": "1.2.0",
            "_model_name": "LayoutModel",
            "_view_count": null,
            "_view_module": "@jupyter-widgets/base",
            "_view_module_version": "1.2.0",
            "_view_name": "LayoutView",
            "align_content": null,
            "align_items": null,
            "align_self": null,
            "border": null,
            "bottom": null,
            "display": null,
            "flex": null,
            "flex_flow": null,
            "grid_area": null,
            "grid_auto_columns": null,
            "grid_auto_flow": null,
            "grid_auto_rows": null,
            "grid_column": null,
            "grid_gap": null,
            "grid_row": null,
            "grid_template_areas": null,
            "grid_template_columns": null,
            "grid_template_rows": null,
            "height": null,
            "justify_content": null,
            "justify_items": null,
            "left": null,
            "margin": null,
            "max_height": null,
            "max_width": null,
            "min_height": null,
            "min_width": null,
            "object_fit": null,
            "object_position": null,
            "order": null,
            "overflow": null,
            "overflow_x": null,
            "overflow_y": null,
            "padding": null,
            "right": null,
            "top": null,
            "visibility": null,
            "width": null
          }
        },
        "3a59935e9e714a43b26a8ab2d17b0bea": {
          "model_module": "@jupyter-widgets/controls",
          "model_name": "DescriptionStyleModel",
          "model_module_version": "1.5.0",
          "state": {
            "_model_module": "@jupyter-widgets/controls",
            "_model_module_version": "1.5.0",
            "_model_name": "DescriptionStyleModel",
            "_view_count": null,
            "_view_module": "@jupyter-widgets/base",
            "_view_module_version": "1.2.0",
            "_view_name": "StyleView",
            "description_width": ""
          }
        }
      }
    }
  },
  "cells": [
    {
      "cell_type": "markdown",
      "metadata": {
        "id": "view-in-github",
        "colab_type": "text"
      },
      "source": [
        "<a href=\"https://colab.research.google.com/github/fubotz/IR_2025S/blob/main/Dense_Retrieval_Example_SCHAMBECK_Fabian.ipynb\" target=\"_parent\"><img src=\"https://colab.research.google.com/assets/colab-badge.svg\" alt=\"Open In Colab\"/></a>"
      ]
    },
    {
      "cell_type": "markdown",
      "source": [
        "# A Dense Retrieval using DPR"
      ],
      "metadata": {
        "id": "a8olRKTyG5-R"
      }
    },
    {
      "cell_type": "markdown",
      "source": [
        "Install the needed packages - dataasets and faiss-cpu"
      ],
      "metadata": {
        "id": "v2Qtor3pGrFl"
      }
    },
    {
      "cell_type": "code",
      "source": [
        "%%capture\n",
        "%pip install datasets faiss-cpu"
      ],
      "metadata": {
        "id": "hCHVPd6o5Fmv"
      },
      "execution_count": 20,
      "outputs": []
    },
    {
      "cell_type": "code",
      "execution_count": 21,
      "metadata": {
        "id": "jmAgyRRi415N"
      },
      "outputs": [],
      "source": [
        "import torch\n",
        "\n",
        "from datasets import load_dataset\n",
        "from transformers import DPRContextEncoder, DPRContextEncoderTokenizer\n",
        "from transformers import DPRQuestionEncoder, DPRQuestionEncoderTokenizer"
      ]
    },
    {
      "cell_type": "markdown",
      "source": [
        "## Data Preprocessing and Indexing\n",
        "\n",
        "Load the **context** DPR models from huggingface hub.  \n",
        "They will be used to encode the context, the document data."
      ],
      "metadata": {
        "id": "Jkcwjhw3HCfD"
      }
    },
    {
      "cell_type": "code",
      "source": [
        "torch.set_grad_enabled(False)\n",
        "\n",
        "ctx_encoder = DPRContextEncoder.from_pretrained(\"facebook/dpr-ctx_encoder-single-nq-base\")\n",
        "ctx_tokenizer = DPRContextEncoderTokenizer.from_pretrained(\"facebook/dpr-ctx_encoder-single-nq-base\")"
      ],
      "metadata": {
        "colab": {
          "base_uri": "https://localhost:8080/"
        },
        "id": "_bbRJOdH5BWy",
        "outputId": "0e0b45e1-3213-4ca1-fefe-84ac4e5712f1"
      },
      "execution_count": 22,
      "outputs": [
        {
          "output_type": "stream",
          "name": "stderr",
          "text": [
            "Some weights of the model checkpoint at facebook/dpr-ctx_encoder-single-nq-base were not used when initializing DPRContextEncoder: ['ctx_encoder.bert_model.pooler.dense.bias', 'ctx_encoder.bert_model.pooler.dense.weight']\n",
            "- This IS expected if you are initializing DPRContextEncoder from the checkpoint of a model trained on another task or with another architecture (e.g. initializing a BertForSequenceClassification model from a BertForPreTraining model).\n",
            "- This IS NOT expected if you are initializing DPRContextEncoder from the checkpoint of a model that you expect to be exactly identical (initializing a BertForSequenceClassification model from a BertForSequenceClassification model).\n",
            "The tokenizer class you load from this checkpoint is not the same type as the class this function is called from. It may result in unexpected tokenization. \n",
            "The tokenizer class you load from this checkpoint is 'DPRQuestionEncoderTokenizer'. \n",
            "The class this function is called from is 'DPRContextEncoderTokenizer'.\n"
          ]
        }
      ]
    },
    {
      "cell_type": "markdown",
      "source": [
        "Load a dataset (Crime and Punishment)"
      ],
      "metadata": {
        "id": "d1-tT_OyHHch"
      }
    },
    {
      "cell_type": "code",
      "source": [
        "ds = load_dataset('crime_and_punish', split='train[:100]'); ds"
      ],
      "metadata": {
        "colab": {
          "base_uri": "https://localhost:8080/"
        },
        "id": "lpAMDprW55lD",
        "outputId": "f4befaee-cb95-4e8c-a26a-5be490722526"
      },
      "execution_count": 23,
      "outputs": [
        {
          "output_type": "execute_result",
          "data": {
            "text/plain": [
              "Dataset({\n",
              "    features: ['line'],\n",
              "    num_rows: 100\n",
              "})"
            ]
          },
          "metadata": {},
          "execution_count": 23
        }
      ]
    },
    {
      "cell_type": "code",
      "source": [
        "ds[:20]"
      ],
      "metadata": {
        "colab": {
          "base_uri": "https://localhost:8080/"
        },
        "id": "EhepaJDFHYiH",
        "outputId": "a90bec0f-9abc-4da0-f544-23a2bff4c691"
      },
      "execution_count": 24,
      "outputs": [
        {
          "output_type": "execute_result",
          "data": {
            "text/plain": [
              "{'line': ['CRIME AND PUNISHMENT\\r\\n',\n",
              "  '\\r\\n',\n",
              "  '\\r\\n',\n",
              "  '\\r\\n',\n",
              "  '\\r\\n',\n",
              "  'PART I\\r\\n',\n",
              "  '\\r\\n',\n",
              "  '\\r\\n',\n",
              "  '\\r\\n',\n",
              "  'CHAPTER I\\r\\n',\n",
              "  '\\r\\n',\n",
              "  'On an exceptionally hot evening early in July a young man came out of\\r\\n',\n",
              "  'the garret in which he lodged in S. Place and walked slowly, as though\\r\\n',\n",
              "  'in hesitation, towards K. bridge.\\r\\n',\n",
              "  '\\r\\n',\n",
              "  'He had successfully avoided meeting his landlady on the staircase. His\\r\\n',\n",
              "  'garret was under the roof of a high, five-storied house and was more\\r\\n',\n",
              "  'like a cupboard than a room. The landlady who provided him with garret,\\r\\n',\n",
              "  'dinners, and attendance, lived on the floor below, and every time\\r\\n',\n",
              "  'he went out he was obliged to pass her kitchen, the door of which\\r\\n']}"
            ]
          },
          "metadata": {},
          "execution_count": 24
        }
      ]
    },
    {
      "cell_type": "markdown",
      "source": [
        "Prepare the data to be indexed: convert each line to an *embedding vector*"
      ],
      "metadata": {
        "id": "qENeW-91HLtP"
      }
    },
    {
      "cell_type": "code",
      "source": [
        "ds_with_embeddings = ds.map(\n",
        "    lambda example:\n",
        "    {'embeddings': ctx_encoder(**ctx_tokenizer(example[\"line\"], return_tensors=\"pt\"))[0][0].numpy()})"
      ],
      "metadata": {
        "id": "YyLq37GB6FyF"
      },
      "execution_count": 25,
      "outputs": []
    },
    {
      "cell_type": "markdown",
      "source": [
        "... and index them"
      ],
      "metadata": {
        "id": "eMf44BNYHkF5"
      }
    },
    {
      "cell_type": "code",
      "source": [
        "ds_with_embeddings.add_faiss_index(column='embeddings')"
      ],
      "metadata": {
        "colab": {
          "base_uri": "https://localhost:8080/",
          "height": 118,
          "referenced_widgets": [
            "c73c0f0f041e4f63bdc620b3540dd177",
            "9825a9b337524b9eacac771161c6c276",
            "610b220ccacd4f8fa8819721c0e600f4",
            "9275f502b0344118a320fd664f446c33",
            "46174a9b9e3f4b5da1488ae35c79ea03",
            "b29ade6a8a72415c8b3f9b3b0f3bff31",
            "767aa2df62fa41ba99175ec2c1d84034",
            "c927f85a77154fccab5262f114064c6d",
            "f087ba2657ae481eb5df7e325bb6f428",
            "81b951509bd541f69ac405b8a0cf166d",
            "3a59935e9e714a43b26a8ab2d17b0bea"
          ]
        },
        "id": "dFWC6GQu6QcV",
        "outputId": "a4af55ea-a39e-437e-e75f-59d5f1fd9c82"
      },
      "execution_count": 26,
      "outputs": [
        {
          "output_type": "display_data",
          "data": {
            "text/plain": [
              "  0%|          | 0/1 [00:00<?, ?it/s]"
            ],
            "application/vnd.jupyter.widget-view+json": {
              "version_major": 2,
              "version_minor": 0,
              "model_id": "c73c0f0f041e4f63bdc620b3540dd177"
            }
          },
          "metadata": {}
        },
        {
          "output_type": "execute_result",
          "data": {
            "text/plain": [
              "Dataset({\n",
              "    features: ['line', 'embeddings'],\n",
              "    num_rows: 100\n",
              "})"
            ]
          },
          "metadata": {},
          "execution_count": 26
        }
      ]
    },
    {
      "cell_type": "code",
      "source": [
        "ds_with_embeddings"
      ],
      "metadata": {
        "colab": {
          "base_uri": "https://localhost:8080/"
        },
        "id": "C50wHbfoeOuy",
        "outputId": "4cb77f15-ab58-4ce0-c8f5-2449e8bace3b"
      },
      "execution_count": 27,
      "outputs": [
        {
          "output_type": "execute_result",
          "data": {
            "text/plain": [
              "Dataset({\n",
              "    features: ['line', 'embeddings'],\n",
              "    num_rows: 100\n",
              "})"
            ]
          },
          "metadata": {},
          "execution_count": 27
        }
      ]
    },
    {
      "cell_type": "markdown",
      "source": [
        "## Retrieval\n",
        "\n",
        "Load the **question** DPR models from huggingface hub.  \n",
        "They will be used to encode the query."
      ],
      "metadata": {
        "id": "mOeIWyQ3HmDv"
      }
    },
    {
      "cell_type": "code",
      "source": [
        "q_encoder = DPRQuestionEncoder.from_pretrained(\"facebook/dpr-question_encoder-single-nq-base\")\n",
        "q_tokenizer = DPRQuestionEncoderTokenizer.from_pretrained(\"facebook/dpr-question_encoder-single-nq-base\")"
      ],
      "metadata": {
        "colab": {
          "base_uri": "https://localhost:8080/"
        },
        "id": "oOKK4nD168hX",
        "outputId": "94c62b8d-be86-415e-f437-427ae8198fd7"
      },
      "execution_count": 28,
      "outputs": [
        {
          "output_type": "stream",
          "name": "stderr",
          "text": [
            "Some weights of the model checkpoint at facebook/dpr-question_encoder-single-nq-base were not used when initializing DPRQuestionEncoder: ['question_encoder.bert_model.pooler.dense.bias', 'question_encoder.bert_model.pooler.dense.weight']\n",
            "- This IS expected if you are initializing DPRQuestionEncoder from the checkpoint of a model trained on another task or with another architecture (e.g. initializing a BertForSequenceClassification model from a BertForPreTraining model).\n",
            "- This IS NOT expected if you are initializing DPRQuestionEncoder from the checkpoint of a model that you expect to be exactly identical (initializing a BertForSequenceClassification model from a BertForSequenceClassification model).\n"
          ]
        }
      ]
    },
    {
      "cell_type": "markdown",
      "source": [
        "Tokenize and encode a query:"
      ],
      "metadata": {
        "id": "E4NANJSsIJtj"
      }
    },
    {
      "cell_type": "code",
      "source": [
        "question = \"Is it serious ?\"\n",
        "question_embedding = q_encoder(**q_tokenizer(question, return_tensors=\"pt\"))[0][0].numpy()"
      ],
      "metadata": {
        "id": "Enb3VRcSCl-m"
      },
      "execution_count": 29,
      "outputs": []
    },
    {
      "cell_type": "markdown",
      "source": [
        "and perform retrieval"
      ],
      "metadata": {
        "id": "LljnG83dIMFl"
      }
    },
    {
      "cell_type": "code",
      "source": [
        "scores, retrieved_examples = ds_with_embeddings.get_nearest_examples('embeddings', question_embedding, k=5)\n",
        "retrieved_examples[\"line\"]"
      ],
      "metadata": {
        "colab": {
          "base_uri": "https://localhost:8080/"
        },
        "id": "AiqO5iQnCq6Y",
        "outputId": "00a1e4c9-442a-4159-e72b-fa42316d19d5"
      },
      "execution_count": 30,
      "outputs": [
        {
          "output_type": "execute_result",
          "data": {
            "text/plain": [
              "['_that_ serious? It is not serious at all. It’s simply a fantasy to amuse\\r\\n',\n",
              " 'and complaints, and to rack his brains for excuses, to prevaricate, to\\r\\n',\n",
              " 'CRIME AND PUNISHMENT\\r\\n',\n",
              " 'for him. But to be stopped on the stairs, to be forced to listen to her\\r\\n',\n",
              " 'trivial, irrelevant gossip, to pestering demands for payment, threats\\r\\n']"
            ]
          },
          "metadata": {},
          "execution_count": 30
        }
      ]
    },
    {
      "cell_type": "code",
      "source": [
        "scores"
      ],
      "metadata": {
        "colab": {
          "base_uri": "https://localhost:8080/"
        },
        "id": "4Ooh-evnfl3o",
        "outputId": "24fbbf73-1793-4d10-91c8-8d02b024ff42"
      },
      "execution_count": 31,
      "outputs": [
        {
          "output_type": "execute_result",
          "data": {
            "text/plain": [
              "array([ 94.92376 ,  95.6583  ,  98.723434, 103.86665 , 106.68605 ],\n",
              "      dtype=float32)"
            ]
          },
          "metadata": {},
          "execution_count": 31
        }
      ]
    },
    {
      "cell_type": "markdown",
      "source": [
        "Although we created the index inside the huggingface dataset, it can still be accessed through the `.faiss_index` property.  \n",
        "We can use it for [more operations and methods](https://github.com/facebookresearch/faiss/wiki/Special-operations-on-indexes), such as [Range Search](https://github.com/facebookresearch/faiss/wiki/Special-operations-on-indexes#range-search)"
      ],
      "metadata": {
        "id": "JpC8s49rJazk"
      }
    },
    {
      "cell_type": "code",
      "source": [
        "faiss_index = ds_with_embeddings.get_index('embeddings').faiss_index\n",
        "faiss_index"
      ],
      "metadata": {
        "colab": {
          "base_uri": "https://localhost:8080/"
        },
        "id": "ci0_lJ-dhru9",
        "outputId": "9eca0269-6a1d-42c7-bb97-77d6fdd48c1f"
      },
      "execution_count": 32,
      "outputs": [
        {
          "output_type": "execute_result",
          "data": {
            "text/plain": [
              "<faiss.swigfaiss_avx2.IndexFlat; proxy of <Swig Object of type 'faiss::IndexFlat *' at 0x791fb97031e0> >"
            ]
          },
          "metadata": {},
          "execution_count": 32
        }
      ]
    },
    {
      "cell_type": "code",
      "source": [
        "# access the index with .faiss_index\n",
        "faiss_index = ds_with_embeddings.get_index('embeddings').faiss_index\n",
        "\n",
        "question = \"murder\"\n",
        "question_embedding = q_encoder(**q_tokenizer(question, return_tensors=\"pt\"))[0][0].numpy()\n",
        "\n",
        "# use it for more complicated methods - e.g., range_search\n",
        "limits, distances, indices = faiss_index.range_search(x=question_embedding.reshape(1, -1), thresh=0.5)\n",
        "\n",
        "limits, distances, indices"
      ],
      "metadata": {
        "id": "vp5_rdFJCrjt",
        "colab": {
          "base_uri": "https://localhost:8080/"
        },
        "outputId": "8a99f267-8613-4f02-9c78-9c64f1b3d5df"
      },
      "execution_count": 33,
      "outputs": [
        {
          "output_type": "execute_result",
          "data": {
            "text/plain": [
              "(array([0, 0], dtype=uint64), array([], dtype=float32), array([], dtype=int64))"
            ]
          },
          "metadata": {},
          "execution_count": 33
        }
      ]
    },
    {
      "cell_type": "code",
      "source": [
        "distances, indices = faiss_index.search(x=question_embedding.reshape(1, -1), k=3)\n",
        "distances, indices"
      ],
      "metadata": {
        "colab": {
          "base_uri": "https://localhost:8080/"
        },
        "id": "Y30TmQ27LCNe",
        "outputId": "a01204d0-333e-4d60-8472-11146eea42ca"
      },
      "execution_count": 34,
      "outputs": [
        {
          "output_type": "execute_result",
          "data": {
            "text/plain": [
              "(array([[ 82.41716,  99.00274, 104.89004]], dtype=float32),\n",
              " array([[ 0, 60, 34]]))"
            ]
          },
          "metadata": {},
          "execution_count": 34
        }
      ]
    },
    {
      "cell_type": "markdown",
      "source": [
        "## Disk operations\n",
        "How to save and load the index:"
      ],
      "metadata": {
        "id": "Qfv263u6Il_h"
      }
    },
    {
      "cell_type": "code",
      "source": [
        "# to save:\n",
        "ds_index_path = 'my_index.faiss'\n",
        "ds_index_name = 'embeddings'\n",
        "\n",
        "ds_with_embeddings.save_faiss_index(ds_index_name, ds_index_path)"
      ],
      "metadata": {
        "id": "XUKONz9gDMJF"
      },
      "execution_count": 35,
      "outputs": []
    },
    {
      "cell_type": "code",
      "source": [
        "# to load:\n",
        "ds = load_dataset('crime_and_punish', split='train[:100]')\n",
        "ds.load_faiss_index(ds_index_name, ds_index_path)"
      ],
      "metadata": {
        "id": "h9poyG7BDM1_"
      },
      "execution_count": 36,
      "outputs": []
    }
  ]
}