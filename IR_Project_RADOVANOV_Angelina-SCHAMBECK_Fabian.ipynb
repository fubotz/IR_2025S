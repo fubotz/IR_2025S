{
  "cells": [
    {
      "cell_type": "markdown",
      "metadata": {
        "id": "AAa3Wm0NeClh"
      },
      "source": [
        "# Building a IR System for Harry Potter books\n",
        "\n",
        "In this notebook..."
      ]
    },
    {
      "cell_type": "code",
      "source": [],
      "metadata": {
        "id": "8Vck7Q0p15FK"
      },
      "execution_count": null,
      "outputs": []
    }
  ],
  "metadata": {
    "kernelspec": {
      "display_name": "playground-CIwa4qg6-py3.10",
      "language": "python",
      "name": "python3"
    },
    "language_info": {
      "codemirror_mode": {
        "name": "ipython",
        "version": 3
      },
      "file_extension": ".py",
      "mimetype": "text/x-python",
      "name": "python",
      "nbconvert_exporter": "python",
      "pygments_lexer": "ipython3",
      "version": "3.10.12"
    },
    "colab": {
      "provenance": []
    }
  },
  "nbformat": 4,
  "nbformat_minor": 0
}