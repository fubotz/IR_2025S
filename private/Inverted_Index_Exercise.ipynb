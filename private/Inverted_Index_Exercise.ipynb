{
 "cells": [
  {
   "cell_type": "markdown",
   "metadata": {},
   "source": [
    "# Building a Simple Inverted Index\n",
    "\n",
    "In this notebook, we will implement an inverted index structure.   \n",
    "The inverted index is a data structure that maps each term to the list of documents that contain the term (also called **postings** list). The inverted index is a central data structure in information retrieval systems. It allows us to quickly find and retrieve the documents in which a term appears.\n",
    "\n",
    "In this notebook, we will test document retrieval with and without indexing, and compare the time taken for each method.\n"
   ]
  },
  {
   "cell_type": "markdown",
   "metadata": {},
   "source": [
    "## Data\n",
    "For the sake of the exercise, you can choose between two corpus:\n",
    "* The fairy tales corpus: a collection of ~250 fairy tales from the Gutenberg project. The corpus is available in the file `fairytales.csv.zip`, and contains the following columns:\n",
    "    * `title`: the title of the fairy tale\n",
    "    * `content`: the content of the fairy tale\n",
    "    While the csv is zipped, you don't have to unzip it, you can read it directly using pandas' `read_csv` method with the `compression` parameter set to `zip`, like so:\n",
    "    ```python\n",
    "    df = pd.read_csv('fairytales.csv.zip', compression='zip')\n",
    "    ```\n",
    "* Or the heavier corpus: `stories.zip`, which contains a collection of 230 books, each divided into chapters as a separate text file. To use the corpus, you don't need to unzip it, you can read the files directly from the zip file, using the python's zipfile module. Here's an example:\n",
    "    ```python\n",
    "    from zipfile import ZipFile\n",
    "\n",
    "    with ZipFile('stories.zip', 'r') as zip_ref:\n",
    "        # looping over the folders using the `namelist` method:\n",
    "        for file in zip_ref.namelist():\n",
    "            with zip_ref.open(file) as f:\n",
    "                text = f.read().decode('utf-8')\n",
    "\n",
    "                # some naive tokenization - spliting the text by space. You can do better than this ;)\n",
    "                tokens = text.split()\n",
    "                for token in tokens:\n",
    "                    print(token)\n",
    "    ```\n",
    "You can also mix and merge both corpus, if you wish."
   ]
  },
  {
   "cell_type": "code",
   "execution_count": null,
   "metadata": {},
   "outputs": [],
   "source": [
    "import pandas as pd\n",
    "from zipfile import ZipFile"
   ]
  },
  {
   "cell_type": "markdown",
   "metadata": {},
   "source": [
    "## Linear Search\n",
    "\n",
    "Let's start with a simple linear search.\n",
    "Given a query string, the function `linear_search` should return a list of documents (or document ids) that contain it.\n",
    "\n",
    "Implement the function `linear_search` below, and measure its execution time for some example queries. Store these results and measure the mean the standard deviation of these times."
   ]
  },
  {
   "cell_type": "code",
   "execution_count": null,
   "metadata": {},
   "outputs": [],
   "source": [
    "# Here are some ideas for queries. You can also come up with your own, or mix and match terms from different queries.\n",
    "queries = [\n",
    "    \"warrior\",\n",
    "    \"hunter\",\n",
    "    \"lodge\",\n",
    "    \"father\",\n",
    "    \"king\",\n",
    "    \"forest\",\n",
    "    \"magic\",\n",
    "    \"sword\",\n",
    "    \"queen\",\n",
    "    \"princess\",\n",
    "    \"castle\",\n",
    "    \"home\",\n",
    "    \"dream\",\n",
    "    \"fish\",\n",
    "    \"sleep\",\n",
    "    \"life\",\n",
    "    \"ship\",\n",
    "    \"luck\",\n",
    "    \"wisdom\", \n",
    "    \"hand\",\n",
    "    \"pig\",\n",
    "    \"child\",\n",
    "    \"friend\",\n",
    "    \"love\",\n",
    "    \"woman\",\n",
    "    \"pancake\",\n",
    "    \"money\",\n",
    "    \"bank\",\n",
    "    \"arrow\",\n",
    "    \"slave\",\n",
    "    \"music\",\n",
    "    \"work\",\n",
    "    \"respect\"\n",
    "]  "
   ]
  },
  {
   "cell_type": "code",
   "execution_count": null,
   "metadata": {},
   "outputs": [],
   "source": [
    "### YOUR CODE HERE ###\n",
    "def linear_search(documents, query: str):\n",
    "    pass "
   ]
  },
  {
   "cell_type": "markdown",
   "metadata": {},
   "source": [
    "Q: How long did it take your ur linear search to find the documents for each query? \n",
    "Q: What was the mean and standard deviation of these times?\n"
   ]
  },
  {
   "cell_type": "markdown",
   "metadata": {},
   "source": [
    "### Measuring execution times:\n",
    "\n",
    "To measure the execution time of a function, you can use the `time` module in Python. Here's an example of how to use it:\n",
    "```python\n",
    "import time\n",
    "start_time = time.time()\n",
    "\n",
    "# Your code here\n",
    "\n",
    "end_time = time.time()\n",
    "execution_time = end_time - start_time\n",
    "print(f\"Execution time: {execution_time} seconds\")\n",
    "```\n",
    "\n",
    "--- \n",
    "\n",
    "But you can make it even smarter, with reusable code, by [using a decorator](https://www.geeksforgeeks.org/timing-functions-with-decorators-python/):\n",
    "```python\n",
    "from time import time\n",
    "\n",
    "def timer_func(func): \n",
    "    \"\"\"This function shows the execution time of the function object passed\"\"\" \n",
    "    def wrap_func(*args, **kwargs): \n",
    "        t1 = time() \n",
    "        result = func(*args, **kwargs) \n",
    "        t2 = time() \n",
    "        print(f'Function {func.__name__!r} executed in {(t2-t1):.4f}s') \n",
    "        return result \n",
    "    return wrap_func \n",
    "\n",
    "@timer_func\n",
    "def long_time(n): \n",
    "    for i in range(n): \n",
    "        for j in range(100000): \n",
    "            i*j \n",
    "\n",
    "long_time(5)\n",
    "# Output: Function 'long_time' executed in 0.0468s\n",
    "```"
   ]
  },
  {
   "cell_type": "markdown",
   "metadata": {},
   "source": [
    "## Inverted Index\n",
    "\n",
    "Now let's implement an inverted index. This will allow us to retrieve documents much faster than linear search.\n",
    "Implement a simple inverted index. You can use the following class as a starting point, or create your own.\n",
    "\n",
    "We will start simple: Just store the document IDs in a list for each token. If you want to be more advanced, you can store the document IDs as tuples, or a more complex object that stores the document ID and the position of the token in the document.  \n",
    "**Remember**: you are the queens, kings and gods in this realm. You can do whatever you want.\n"
   ]
  },
  {
   "cell_type": "code",
   "execution_count": null,
   "metadata": {},
   "outputs": [],
   "source": [
    "### YOUR CODE HERE ###\n",
    "\n",
    "class InvertedIndex:\n",
    "    def __init__(self):\n",
    "        self.index = {}\n",
    "        self.documents = []\n",
    " \n",
    "    def add_document(self, doc_id, tokens):\n",
    "        self.documents.append(doc_id)\n",
    "        for token in tokens:\n",
    "            if token not in self.index:\n",
    "                self.index[token] = []\n",
    "            self.index[token].append(doc_id)\n",
    "\n",
    "    def get_postings(self, token):\n",
    "        return self.index.get(token, [])\n",
    "\n",
    "    def get_documents(self):\n",
    "        return self.documents"
   ]
  },
  {
   "cell_type": "code",
   "execution_count": null,
   "metadata": {},
   "outputs": [],
   "source": [
    "### Run the retrieval using inverted index on the same queries as before"
   ]
  },
  {
   "cell_type": "markdown",
   "metadata": {},
   "source": [
    "Experiment again with the previous queries on the invertedt index, and time the results.  \n",
    "How long did it take to retrieve the documents for these same queries? What was the mean and standard deviation of these execution times?"
   ]
  }
 ],
 "metadata": {
  "kernelspec": {
   "display_name": "playground-CIwa4qg6-py3.10",
   "language": "python",
   "name": "python3"
  },
  "language_info": {
   "codemirror_mode": {
    "name": "ipython",
    "version": 3
   },
   "file_extension": ".py",
   "mimetype": "text/x-python",
   "name": "python",
   "nbconvert_exporter": "python",
   "pygments_lexer": "ipython3",
   "version": "3.10.12"
  }
 },
 "nbformat": 4,
 "nbformat_minor": 2
}
