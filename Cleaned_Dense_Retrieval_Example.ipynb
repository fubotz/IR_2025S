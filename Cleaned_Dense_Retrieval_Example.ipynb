{
 "cells": [
  {
   "cell_type": "markdown",
   "metadata": {
    "id": "a8olRKTyG5-R"
   },
   "source": [
    "# A Dense Retrieval using DPR"
   ]
  },
  {
   "cell_type": "markdown",
   "metadata": {
    "id": "v2Qtor3pGrFl"
   },
   "source": [
    "Install the needed packages - dataasets and faiss-cpu"
   ]
  },
  {
   "cell_type": "code",
   "execution_count": null,
   "metadata": {
    "id": "hCHVPd6o5Fmv"
   },
   "outputs": [],
   "source": [
    "%%capture\n",
    "%pip install datasets faiss-cpu"
   ]
  },
  {
   "cell_type": "code",
   "execution_count": null,
   "metadata": {
    "id": "jmAgyRRi415N"
   },
   "outputs": [],
   "source": [
    "import torch\n",
    "\n",
    "from datasets import load_dataset\n",
    "from transformers import DPRContextEncoder, DPRContextEncoderTokenizer\n",
    "from transformers import DPRQuestionEncoder, DPRQuestionEncoderTokenizer"
   ]
  },
  {
   "cell_type": "markdown",
   "metadata": {
    "id": "Jkcwjhw3HCfD"
   },
   "source": [
    "## Data Preprocessing and Indexing\n",
    "\n",
    "Load the **context** DPR models from huggingface hub.  \n",
    "They will be used to encode the context, the document data."
   ]
  },
  {
   "cell_type": "code",
   "execution_count": null,
   "metadata": {
    "colab": {
     "base_uri": "https://localhost:8080/",
     "height": 448,
     "referenced_widgets": [
      "c36ac3d882c64268bf051f9af48931e8",
      "08d0c85c94ea48eda9b7c4d8aa1575b1",
      "fbf8a56434a8460da8d422a6f06d08fc",
      "3f40c163c2ec4bb8b2762731ef88029c",
      "65fc5a686a284c4d925442518aaa862c",
      "1a3e3be049b94b1c83a9f0a9e31ded94",
      "dcb19d3fc7a84215b586a930cba5230a",
      "ce72ff7ce84c4290aa0deedb6b55e80a",
      "4330cfbcdab441ff88eb6db79e219f97",
      "77c2b32bfa0a4b1987847785ce5d41b1",
      "9feb3022642d4d209cdee14a4f804bd1",
      "82eade4895d447cbbd246a4fcdd888d8",
      "7a3f789cd0974db99dfb6f7ca0aa536e",
      "eece7f470d8b429fa66e83c64c9df20a",
      "21378acdf7ef4177817f88657499ddb6",
      "8b8bcd224bee4112a498bd8e2f1c5a48",
      "efb3311cc657402ab065a4cf4bc94d93",
      "216280d6b2f34ee7805386c866c26904",
      "7595e31356f6470492f2ee354310fce3",
      "ca04b014b1894629bd7f9a515a2edc05",
      "5ac5481c703243e68f8d0c4b9ab6bd7e",
      "be18ee04bad046948b3b3809cca997d7",
      "09e8d6d8265442bdacdda19ca97aa051",
      "d602b5d8d2b345a5933e181c32ceb5f1",
      "019a7cd6ca54415f98d259102605ff34",
      "804688bee5be458791739626cb3d217b",
      "ab7e666c8cc94587996efd8b2624c836",
      "fe131b6b42024dc7b13ce2ff2c3fdea5",
      "1e334ae5a5264564b813532500119117",
      "128e1a6fcf5840479844859c50fc9cf8",
      "2d1daf2baab541aeb09c40a135121c17",
      "c8b4fc1f08104241b910e945f3c2f89d",
      "1d5c413b97c24a0bac81bd3afe0608ae",
      "8095e0ed653b41d39834bf1fc0a3d7f8",
      "47b57f958e5946bebe2515c291c4f028",
      "c04b2607fb6146c094f6b55f62282846",
      "e9e69d565cce49c087d34e0b7a9c4786",
      "1a378cd607c542a1b37c30d457e92840",
      "31956e6edb104a13b8776013ea18a497",
      "3881f9bcb7964b57bd6b96d02e7bad5f",
      "08de9920f47c44e4806e96a5a87264a1",
      "180d9fb3ea8b453790008e710a8907f8",
      "b3db0d6f52e64e7eb0a64b297f4c923e",
      "94332ae442954cab83b1b75151811c55",
      "3912aba10d89405ca8993d7af9d08620",
      "0c1b1144863f45aab44fff008691caaa",
      "ecf1283545614ec8af9297b5c9543bc7",
      "1264cc5fb7b94794a4255dd66281ebcf",
      "37cf65455a85413e82ce837baf957c10",
      "358fe78557a04019aa1acc1a0cf00f93",
      "0093382041a648baadee6342ae0fa7cf",
      "6af3d9b40f594cfca9bf45bcfcb7646f",
      "84c598bcd8bc427cbd5f0589860aac1e",
      "e6c4e82bdcf8427b917d7787dc92cdcb",
      "50666f945bb64ead932c090c0999420e",
      "631e3e171eed4bb3853d579b424a24c2",
      "a8efa81c849c47c78d1fcb21affedd9c",
      "7761f6a921b64f9686349b9323c01ca6",
      "fe831a6b85394781bb9b6531167abdbc",
      "b8d4f2654bcc4391a29825a2427665b7",
      "f4288562f16b4d0489308055d242e204",
      "465098d73d53455b8da057f0ceaef22f",
      "10be337326c343079f960765e1835f58",
      "1bde23b738ab40dc95a0b725cfcb884b",
      "b1fa67bc3290483ba72b937011a2f45c",
      "03f2dfa77806488a872b08edc8fafeb6"
     ]
    },
    "executionInfo": {
     "elapsed": 8158,
     "status": "ok",
     "timestamp": 1743847605711,
     "user": {
      "displayName": "Liad Magen",
      "userId": "15660935015597213280"
     },
     "user_tz": -120
    },
    "id": "_bbRJOdH5BWy",
    "outputId": "a7b0b7ab-6763-4ad3-e6e9-ca309ca07d83"
   },
   "outputs": [
    {
     "name": "stderr",
     "output_type": "stream",
     "text": [
      "/usr/local/lib/python3.11/dist-packages/huggingface_hub/utils/_auth.py:94: UserWarning: \n",
      "The secret `HF_TOKEN` does not exist in your Colab secrets.\n",
      "To authenticate with the Hugging Face Hub, create a token in your settings tab (https://huggingface.co/settings/tokens), set it as secret in your Google Colab and restart your session.\n",
      "You will be able to reuse this secret in all of your notebooks.\n",
      "Please note that authentication is recommended but still optional to access public models or datasets.\n",
      "  warnings.warn(\n"
     ]
    },
    {
     "data": {
      "application/vnd.jupyter.widget-view+json": {
       "model_id": "c36ac3d882c64268bf051f9af48931e8",
       "version_major": 2,
       "version_minor": 0
      },
      "text/plain": [
       "config.json:   0%|          | 0.00/492 [00:00<?, ?B/s]"
      ]
     },
     "metadata": {},
     "output_type": "display_data"
    },
    {
     "data": {
      "application/vnd.jupyter.widget-view+json": {
       "model_id": "82eade4895d447cbbd246a4fcdd888d8",
       "version_major": 2,
       "version_minor": 0
      },
      "text/plain": [
       "pytorch_model.bin:   0%|          | 0.00/438M [00:00<?, ?B/s]"
      ]
     },
     "metadata": {},
     "output_type": "display_data"
    },
    {
     "name": "stderr",
     "output_type": "stream",
     "text": [
      "Some weights of the model checkpoint at facebook/dpr-ctx_encoder-single-nq-base were not used when initializing DPRContextEncoder: ['ctx_encoder.bert_model.pooler.dense.bias', 'ctx_encoder.bert_model.pooler.dense.weight']\n",
      "- This IS expected if you are initializing DPRContextEncoder from the checkpoint of a model trained on another task or with another architecture (e.g. initializing a BertForSequenceClassification model from a BertForPreTraining model).\n",
      "- This IS NOT expected if you are initializing DPRContextEncoder from the checkpoint of a model that you expect to be exactly identical (initializing a BertForSequenceClassification model from a BertForSequenceClassification model).\n"
     ]
    },
    {
     "data": {
      "application/vnd.jupyter.widget-view+json": {
       "model_id": "09e8d6d8265442bdacdda19ca97aa051",
       "version_major": 2,
       "version_minor": 0
      },
      "text/plain": [
       "tokenizer_config.json:   0%|          | 0.00/28.0 [00:00<?, ?B/s]"
      ]
     },
     "metadata": {},
     "output_type": "display_data"
    },
    {
     "data": {
      "application/vnd.jupyter.widget-view+json": {
       "model_id": "8095e0ed653b41d39834bf1fc0a3d7f8",
       "version_major": 2,
       "version_minor": 0
      },
      "text/plain": [
       "vocab.txt:   0%|          | 0.00/232k [00:00<?, ?B/s]"
      ]
     },
     "metadata": {},
     "output_type": "display_data"
    },
    {
     "data": {
      "application/vnd.jupyter.widget-view+json": {
       "model_id": "3912aba10d89405ca8993d7af9d08620",
       "version_major": 2,
       "version_minor": 0
      },
      "text/plain": [
       "model.safetensors:   0%|          | 0.00/438M [00:00<?, ?B/s]"
      ]
     },
     "metadata": {},
     "output_type": "display_data"
    },
    {
     "data": {
      "application/vnd.jupyter.widget-view+json": {
       "model_id": "631e3e171eed4bb3853d579b424a24c2",
       "version_major": 2,
       "version_minor": 0
      },
      "text/plain": [
       "tokenizer.json:   0%|          | 0.00/466k [00:00<?, ?B/s]"
      ]
     },
     "metadata": {},
     "output_type": "display_data"
    },
    {
     "name": "stderr",
     "output_type": "stream",
     "text": [
      "The tokenizer class you load from this checkpoint is not the same type as the class this function is called from. It may result in unexpected tokenization. \n",
      "The tokenizer class you load from this checkpoint is 'DPRQuestionEncoderTokenizer'. \n",
      "The class this function is called from is 'DPRContextEncoderTokenizer'.\n"
     ]
    }
   ],
   "source": [
    "torch.set_grad_enabled(False)\n",
    "\n",
    "ctx_encoder = DPRContextEncoder.from_pretrained(\"facebook/dpr-ctx_encoder-single-nq-base\")\n",
    "ctx_tokenizer = DPRContextEncoderTokenizer.from_pretrained(\"facebook/dpr-ctx_encoder-single-nq-base\")"
   ]
  },
  {
   "cell_type": "markdown",
   "metadata": {
    "id": "d1-tT_OyHHch"
   },
   "source": [
    "Load a dataset (Crime and Punishment)"
   ]
  },
  {
   "cell_type": "code",
   "execution_count": null,
   "metadata": {
    "colab": {
     "base_uri": "https://localhost:8080/",
     "height": 186,
     "referenced_widgets": [
      "e082819fa8444597878a347be86876bc",
      "25972270f77a4f0abd66d6bb66c95a31",
      "f3e2a2042e364585821a05724781e31b",
      "31593d35d3f94d95910429f0a03591a9",
      "c5e1683ebba5442f8c0915ccd6019662",
      "e4c3d446c6f54a3d87de4678dd6a8f85",
      "9d12a2d4fe2a4a06b53c3558b76f75a1",
      "ba88a0b47eeb443181dba9ad33bfe9d2",
      "c18fd931fe4f44b880fc32a28fdf921c",
      "7aff1bf6fdfd43569c994a32bf6926e3",
      "624783984af443c181ec16f7cfefcd3c",
      "1222408cb92447afaf05b40cd4792f9c",
      "a9645539f31748fba7c2238e983a9ae1",
      "ffcf839a606b4d779a754524bb459c50",
      "172bd8f1be3d46e8866faf87fa2855fa",
      "c7a7cc2b89674e83aaf49572de6cae5c",
      "cbf01289243046c1bf3ac05b0748d04c",
      "ae7a262834ab47698a6914fdc8315240",
      "44e9117de3a64c80b808643bcd2fbacf",
      "3c1e2cf595cf4318b8e45bacc5288dff",
      "b30f99910a6147169ef5a41b89dc7624",
      "46d1481ba97f4410becf7e8bb47ee569",
      "6e638038e86c4aeb9b29e9a96b0a512e",
      "0a38d2f76aaa4818b8a33de148c4c138",
      "33294ed065ef4eb4981645927b5b3c92",
      "7dbbf56920a44fe9a2a5a35951d78f04",
      "4e2de0eeaa4848a286e62f37fff062ab",
      "2f5762252a3a478f99894dcb60773f93",
      "5eb98130959e4db6ae79522c14795804",
      "44527cb45fd64c3f992cbc04312786dc",
      "c560f5a72835498288f65be6f9b8732c",
      "3feeb3a1aacc4c4292f40cc4c4326dfb",
      "5aca40c0259a47998b0aeeffa1eb5317"
     ]
    },
    "executionInfo": {
     "elapsed": 7684,
     "status": "ok",
     "timestamp": 1743847649774,
     "user": {
      "displayName": "Liad Magen",
      "userId": "15660935015597213280"
     },
     "user_tz": -120
    },
    "id": "lpAMDprW55lD",
    "outputId": "56116d4a-4cd8-4af3-be4a-8f193f17b6bb"
   },
   "outputs": [
    {
     "data": {
      "application/vnd.jupyter.widget-view+json": {
       "model_id": "e082819fa8444597878a347be86876bc",
       "version_major": 2,
       "version_minor": 0
      },
      "text/plain": [
       "README.md:   0%|          | 0.00/5.14k [00:00<?, ?B/s]"
      ]
     },
     "metadata": {},
     "output_type": "display_data"
    },
    {
     "data": {
      "application/vnd.jupyter.widget-view+json": {
       "model_id": "1222408cb92447afaf05b40cd4792f9c",
       "version_major": 2,
       "version_minor": 0
      },
      "text/plain": [
       "train-00000-of-00001.parquet:   0%|          | 0.00/786k [00:00<?, ?B/s]"
      ]
     },
     "metadata": {},
     "output_type": "display_data"
    },
    {
     "data": {
      "application/vnd.jupyter.widget-view+json": {
       "model_id": "6e638038e86c4aeb9b29e9a96b0a512e",
       "version_major": 2,
       "version_minor": 0
      },
      "text/plain": [
       "Generating train split:   0%|          | 0/21969 [00:00<?, ? examples/s]"
      ]
     },
     "metadata": {},
     "output_type": "display_data"
    },
    {
     "data": {
      "text/plain": [
       "Dataset({\n",
       "    features: ['line'],\n",
       "    num_rows: 100\n",
       "})"
      ]
     },
     "execution_count": 4,
     "metadata": {},
     "output_type": "execute_result"
    }
   ],
   "source": [
    "ds = load_dataset('crime_and_punish', split='train[:100]'); ds"
   ]
  },
  {
   "cell_type": "code",
   "execution_count": null,
   "metadata": {
    "colab": {
     "base_uri": "https://localhost:8080/"
    },
    "executionInfo": {
     "elapsed": 22,
     "status": "ok",
     "timestamp": 1743848095994,
     "user": {
      "displayName": "Liad Magen",
      "userId": "15660935015597213280"
     },
     "user_tz": -120
    },
    "id": "EhepaJDFHYiH",
    "outputId": "d177efac-510f-470e-f8de-668d3c17414f"
   },
   "outputs": [
    {
     "data": {
      "text/plain": [
       "{'line': ['CRIME AND PUNISHMENT\\r\\n',\n",
       "  '\\r\\n',\n",
       "  '\\r\\n',\n",
       "  '\\r\\n',\n",
       "  '\\r\\n',\n",
       "  'PART I\\r\\n',\n",
       "  '\\r\\n',\n",
       "  '\\r\\n',\n",
       "  '\\r\\n',\n",
       "  'CHAPTER I\\r\\n',\n",
       "  '\\r\\n',\n",
       "  'On an exceptionally hot evening early in July a young man came out of\\r\\n',\n",
       "  'the garret in which he lodged in S. Place and walked slowly, as though\\r\\n',\n",
       "  'in hesitation, towards K. bridge.\\r\\n',\n",
       "  '\\r\\n',\n",
       "  'He had successfully avoided meeting his landlady on the staircase. His\\r\\n',\n",
       "  'garret was under the roof of a high, five-storied house and was more\\r\\n',\n",
       "  'like a cupboard than a room. The landlady who provided him with garret,\\r\\n',\n",
       "  'dinners, and attendance, lived on the floor below, and every time\\r\\n',\n",
       "  'he went out he was obliged to pass her kitchen, the door of which\\r\\n']}"
      ]
     },
     "execution_count": 7,
     "metadata": {},
     "output_type": "execute_result"
    }
   ],
   "source": [
    "ds[:20]"
   ]
  },
  {
   "cell_type": "markdown",
   "metadata": {
    "id": "qENeW-91HLtP"
   },
   "source": [
    "Prepare the data to be indexed: convert each line to an *embedding vector*"
   ]
  },
  {
   "cell_type": "code",
   "execution_count": null,
   "metadata": {
    "colab": {
     "base_uri": "https://localhost:8080/",
     "height": 49,
     "referenced_widgets": [
      "15103c0a8a054f5080a524a6e48dd1b0",
      "26de2be1258040c7b796994ff32e98b6",
      "b840938ff6224de4a36d4931c72f2c22",
      "34ece90c7f884049928db10666395af5",
      "7501ef20538f4f0a8931c39f25f7652b",
      "0bbc661b669f41f28239bd3f3b88c583",
      "fea6acf3697f4d41be96f8da5efe0ca8",
      "90f4d75387724bfd89f6b476c1a365d9",
      "2bd17c29d7b34baab4389774e494f82f",
      "f3c96fd7a97645d3b9c464007a03cadd",
      "9cc156602b084cc89af2772b6b84c171"
     ]
    },
    "executionInfo": {
     "elapsed": 15056,
     "status": "ok",
     "timestamp": 1743848247454,
     "user": {
      "displayName": "Liad Magen",
      "userId": "15660935015597213280"
     },
     "user_tz": -120
    },
    "id": "YyLq37GB6FyF",
    "outputId": "3b2d9fda-5035-4301-b130-8af7d32e1e8e"
   },
   "outputs": [
    {
     "data": {
      "application/vnd.jupyter.widget-view+json": {
       "model_id": "15103c0a8a054f5080a524a6e48dd1b0",
       "version_major": 2,
       "version_minor": 0
      },
      "text/plain": [
       "Map:   0%|          | 0/100 [00:00<?, ? examples/s]"
      ]
     },
     "metadata": {},
     "output_type": "display_data"
    }
   ],
   "source": [
    "ds_with_embeddings = ds.map(\n",
    "    lambda example:\n",
    "     {'embeddings': ctx_encoder(**ctx_tokenizer(example[\"line\"], return_tensors=\"pt\"))[0][0].numpy()})"
   ]
  },
  {
   "cell_type": "markdown",
   "metadata": {
    "id": "eMf44BNYHkF5"
   },
   "source": [
    "... and index them"
   ]
  },
  {
   "cell_type": "code",
   "execution_count": null,
   "metadata": {
    "colab": {
     "base_uri": "https://localhost:8080/",
     "height": 122,
     "referenced_widgets": [
      "59db4c17e69a4a54b25566458f4bcfb0",
      "cfabc68899ca4d2bb8470f7e17128362",
      "a9a8084b425e401484bedb4811a961d7",
      "3876e054cef94fa68f1b1cf9b5849aee",
      "0ec02aed6ed9425596e49cf0dd5d30ae",
      "014134c9d5d44a6cb5e249b7afbdbf15",
      "a134519595084490a40a66a3ae9f6941",
      "63fe5033bc314bb68d61805237fe76e4",
      "a69a4ca030744e5cb6ba1274f0dd1e4b",
      "c43d3441829c442087646478ef8b2102",
      "7f6ad58622664432ac995edafb569ce7"
     ]
    },
    "executionInfo": {
     "elapsed": 262,
     "status": "ok",
     "timestamp": 1743848379902,
     "user": {
      "displayName": "Liad Magen",
      "userId": "15660935015597213280"
     },
     "user_tz": -120
    },
    "id": "dFWC6GQu6QcV",
    "outputId": "4f516b07-1ec4-4bd0-f1d9-f283aec23015"
   },
   "outputs": [
    {
     "data": {
      "application/vnd.jupyter.widget-view+json": {
       "model_id": "59db4c17e69a4a54b25566458f4bcfb0",
       "version_major": 2,
       "version_minor": 0
      },
      "text/plain": [
       "  0%|          | 0/1 [00:00<?, ?it/s]"
      ]
     },
     "metadata": {},
     "output_type": "display_data"
    },
    {
     "data": {
      "text/plain": [
       "Dataset({\n",
       "    features: ['line', 'embeddings'],\n",
       "    num_rows: 100\n",
       "})"
      ]
     },
     "execution_count": 11,
     "metadata": {},
     "output_type": "execute_result"
    }
   ],
   "source": [
    "ds_with_embeddings.add_faiss_index(column='embeddings')"
   ]
  },
  {
   "cell_type": "code",
   "execution_count": null,
   "metadata": {
    "colab": {
     "base_uri": "https://localhost:8080/"
    },
    "executionInfo": {
     "elapsed": 38,
     "status": "ok",
     "timestamp": 1743848535476,
     "user": {
      "displayName": "Liad Magen",
      "userId": "15660935015597213280"
     },
     "user_tz": -120
    },
    "id": "C50wHbfoeOuy",
    "outputId": "9a416e42-559c-4561-9b32-108a532e62f2"
   },
   "outputs": [
    {
     "data": {
      "text/plain": [
       "Dataset({\n",
       "    features: ['line', 'embeddings'],\n",
       "    num_rows: 100\n",
       "})"
      ]
     },
     "execution_count": 12,
     "metadata": {},
     "output_type": "execute_result"
    }
   ],
   "source": [
    "ds_with_embeddings"
   ]
  },
  {
   "cell_type": "markdown",
   "metadata": {
    "id": "mOeIWyQ3HmDv"
   },
   "source": [
    "## Retrieval\n",
    "\n",
    "Load the **question** DPR models from huggingface hub.  \n",
    "They will be used to encode the query."
   ]
  },
  {
   "cell_type": "code",
   "execution_count": null,
   "metadata": {
    "colab": {
     "base_uri": "https://localhost:8080/",
     "height": 284,
     "referenced_widgets": [
      "0b1a30947fe643d2970ec348b402c545",
      "b732691758c54ab2af749200e9a78256",
      "eaa79854bf614da0a376ccb6ae401176",
      "7435fb03cd1c4eef93fda76864987ee0",
      "10a13fe0e82d4cc7b63720a8029441eb",
      "63c6b45edeef45aabd6be950fc0f25f7",
      "7099278da2ce43678ae5e202c3a11d61",
      "552d2807455f4a26888a94dc2720ddec",
      "5ebffb7551ce4dbd805ac94bb557b539",
      "228a836c19a64609973a8e1e31394bba",
      "1ed3f324e0a64b7d923cfd2195fd8565",
      "47c59b58e3524d1990c00cda80bdd6ae",
      "5b5a6ede71b04ebfa2e418f413d14ea2",
      "69c2311caf4e4d2cbecc7e2099df1d40",
      "f50c46b13f934440b7fb1c639d1fa97c",
      "2e0d5565e833472abf6b2f43e293b261",
      "4b4a17077ec4482e97b1ada6f440ed4a",
      "cef68ba699cc430a861acb41c0bf5119",
      "0c7bee2ac0284534a638c780df27b729",
      "0cdb202495e4445ab410e4d7d4503e95",
      "f0a81f19080e4b63bb95af0e77438ccb",
      "426f4b4d4a2f493faaf793217c37a924",
      "8265aaba84764554857059f002645442",
      "7bf3c7497879433b8c7704ffb6ffbcae",
      "1afaff1304fd4abe95cb5560dfb1248f",
      "e2b8ec43a81845b29ffa19741add37fd",
      "2719314643644013933d8474bea756f3",
      "13dcfcc3cc0a44739ede17eadf55bec5",
      "47aa635c576e4331a58c333ce2f7c738",
      "8f299ce5ff8e46a4bda5c656e9155936",
      "954d49fe5c5f4dc0be58480cf0918739",
      "6b68cbcdedb1450bbf89af7ac95e5594",
      "3047ea5c883648979507f3714c712c2b",
      "868efe4a21f844128a100b461b80933e",
      "c7fa09f1c7a047c6a2f0efcb74e6dc33",
      "87d3c12432704533bdd6e66194a404d5",
      "8eaec4ec2d104df492f1ad0b14e0bdcd",
      "a79f8c28273441c68f29d9094a8ca3a5",
      "e9bda3c533b440e48fabc1ff069db608",
      "c0ff740edc57410e867300ebbcb1ea01",
      "9ccc44ff554e43d9b02bd692b3fe785b",
      "8ce508c919a544ab88b94866f11debcb",
      "fc6bde31c4bc4e71a54b56ec6baa2a6f",
      "34979fcd07f340f3b08d8124a2a16528",
      "997beefadfff49e2b0b8b9ab45e53e8f",
      "539457a26d8d44348e65899d1a461450",
      "0c2c85a8a8f7431cb2b3ee5958daf644",
      "e0df8671e9a04480847ec4aa6193f125",
      "4478d958c4f24aef879583776cbfcd27",
      "b4d650cdc9d647d4aa1f14d01334ac17",
      "5e96a4ff198142abb660c9382eef3141",
      "685ed432a7864de8bd58d7f51f52c84e",
      "2714f2121022408d9fc333fd9de6c063",
      "2711c4c9eca04782bffc9662824b34fe",
      "4626eb6e4355442f99c1a93d5c5f6fe5",
      "b30d052990fd45b8a47cf0fbfe7d8289",
      "840b0feca5bc4a8e920a5cf17787399f",
      "683f7aa199d74470bf81dea8eeb92e78",
      "a059cbe14a8a4575b18d9f69c3bb7a7f",
      "0f52633b7f0147bc9843470e25aec011",
      "3c4f7873ce3b47c7b44621b6a45aa79b",
      "3bf414e3d3da44a28c5b88f45c9ad252",
      "03939ebb4d324a228fa91cfd2549bb19",
      "d0f2297a94cc4c9cacebae448743d007",
      "508dac028de049a9b781a2af104b081e",
      "bf124a6440a240a88f8a03b535c6f569"
     ]
    },
    "executionInfo": {
     "elapsed": 11387,
     "status": "ok",
     "timestamp": 1743848633366,
     "user": {
      "displayName": "Liad Magen",
      "userId": "15660935015597213280"
     },
     "user_tz": -120
    },
    "id": "oOKK4nD168hX",
    "outputId": "56ffd704-dd5b-4e11-ce93-ccc82474ddcf"
   },
   "outputs": [
    {
     "data": {
      "application/vnd.jupyter.widget-view+json": {
       "model_id": "0b1a30947fe643d2970ec348b402c545",
       "version_major": 2,
       "version_minor": 0
      },
      "text/plain": [
       "config.json:   0%|          | 0.00/493 [00:00<?, ?B/s]"
      ]
     },
     "metadata": {},
     "output_type": "display_data"
    },
    {
     "data": {
      "application/vnd.jupyter.widget-view+json": {
       "model_id": "47c59b58e3524d1990c00cda80bdd6ae",
       "version_major": 2,
       "version_minor": 0
      },
      "text/plain": [
       "pytorch_model.bin:   0%|          | 0.00/438M [00:00<?, ?B/s]"
      ]
     },
     "metadata": {},
     "output_type": "display_data"
    },
    {
     "name": "stderr",
     "output_type": "stream",
     "text": [
      "Some weights of the model checkpoint at facebook/dpr-question_encoder-single-nq-base were not used when initializing DPRQuestionEncoder: ['question_encoder.bert_model.pooler.dense.bias', 'question_encoder.bert_model.pooler.dense.weight']\n",
      "- This IS expected if you are initializing DPRQuestionEncoder from the checkpoint of a model trained on another task or with another architecture (e.g. initializing a BertForSequenceClassification model from a BertForPreTraining model).\n",
      "- This IS NOT expected if you are initializing DPRQuestionEncoder from the checkpoint of a model that you expect to be exactly identical (initializing a BertForSequenceClassification model from a BertForSequenceClassification model).\n"
     ]
    },
    {
     "data": {
      "application/vnd.jupyter.widget-view+json": {
       "model_id": "8265aaba84764554857059f002645442",
       "version_major": 2,
       "version_minor": 0
      },
      "text/plain": [
       "model.safetensors:   0%|          | 0.00/438M [00:00<?, ?B/s]"
      ]
     },
     "metadata": {},
     "output_type": "display_data"
    },
    {
     "data": {
      "application/vnd.jupyter.widget-view+json": {
       "model_id": "868efe4a21f844128a100b461b80933e",
       "version_major": 2,
       "version_minor": 0
      },
      "text/plain": [
       "tokenizer_config.json:   0%|          | 0.00/28.0 [00:00<?, ?B/s]"
      ]
     },
     "metadata": {},
     "output_type": "display_data"
    },
    {
     "data": {
      "application/vnd.jupyter.widget-view+json": {
       "model_id": "997beefadfff49e2b0b8b9ab45e53e8f",
       "version_major": 2,
       "version_minor": 0
      },
      "text/plain": [
       "vocab.txt:   0%|          | 0.00/232k [00:00<?, ?B/s]"
      ]
     },
     "metadata": {},
     "output_type": "display_data"
    },
    {
     "data": {
      "application/vnd.jupyter.widget-view+json": {
       "model_id": "b30d052990fd45b8a47cf0fbfe7d8289",
       "version_major": 2,
       "version_minor": 0
      },
      "text/plain": [
       "tokenizer.json:   0%|          | 0.00/466k [00:00<?, ?B/s]"
      ]
     },
     "metadata": {},
     "output_type": "display_data"
    }
   ],
   "source": [
    "q_encoder = DPRQuestionEncoder.from_pretrained(\"facebook/dpr-question_encoder-single-nq-base\")\n",
    "q_tokenizer = DPRQuestionEncoderTokenizer.from_pretrained(\"facebook/dpr-question_encoder-single-nq-base\")"
   ]
  },
  {
   "cell_type": "markdown",
   "metadata": {
    "id": "E4NANJSsIJtj"
   },
   "source": [
    "Tokenize and encode a query:"
   ]
  },
  {
   "cell_type": "code",
   "execution_count": null,
   "metadata": {
    "id": "Enb3VRcSCl-m"
   },
   "outputs": [],
   "source": [
    "question = \"Is it serious ?\"\n",
    "question_embedding = q_encoder(**q_tokenizer(question, return_tensors=\"pt\"))[0][0].numpy()"
   ]
  },
  {
   "cell_type": "markdown",
   "metadata": {
    "id": "LljnG83dIMFl"
   },
   "source": [
    "and perform retrieval"
   ]
  },
  {
   "cell_type": "code",
   "execution_count": null,
   "metadata": {
    "colab": {
     "base_uri": "https://localhost:8080/"
    },
    "executionInfo": {
     "elapsed": 19,
     "status": "ok",
     "timestamp": 1743848930210,
     "user": {
      "displayName": "Liad Magen",
      "userId": "15660935015597213280"
     },
     "user_tz": -120
    },
    "id": "AiqO5iQnCq6Y",
    "outputId": "f1bb2564-985c-42e9-8017-f6e5160a1198"
   },
   "outputs": [
    {
     "data": {
      "text/plain": [
       "['_that_ serious? It is not serious at all. It’s simply a fantasy to amuse\\r\\n',\n",
       " 'and complaints, and to rack his brains for excuses, to prevaricate, to\\r\\n',\n",
       " 'CRIME AND PUNISHMENT\\r\\n',\n",
       " 'for him. But to be stopped on the stairs, to be forced to listen to her\\r\\n',\n",
       " 'trivial, irrelevant gossip, to pestering demands for payment, threats\\r\\n']"
      ]
     },
     "execution_count": 18,
     "metadata": {},
     "output_type": "execute_result"
    }
   ],
   "source": [
    "scores, retrieved_examples = ds_with_embeddings.get_nearest_examples('embeddings', question_embedding, k=5)\n",
    "retrieved_examples[\"line\"]"
   ]
  },
  {
   "cell_type": "code",
   "execution_count": null,
   "metadata": {
    "colab": {
     "base_uri": "https://localhost:8080/"
    },
    "executionInfo": {
     "elapsed": 9,
     "status": "ok",
     "timestamp": 1743848932318,
     "user": {
      "displayName": "Liad Magen",
      "userId": "15660935015597213280"
     },
     "user_tz": -120
    },
    "id": "4Ooh-evnfl3o",
    "outputId": "9ae86bbd-11cb-4e4d-87a8-519e7a0f0247"
   },
   "outputs": [
    {
     "data": {
      "text/plain": [
       "array([ 94.92376 ,  95.6583  ,  98.723434, 103.86665 , 106.68605 ],\n",
       "      dtype=float32)"
      ]
     },
     "execution_count": 19,
     "metadata": {},
     "output_type": "execute_result"
    }
   ],
   "source": [
    "scores"
   ]
  },
  {
   "cell_type": "markdown",
   "metadata": {
    "id": "JpC8s49rJazk"
   },
   "source": [
    "Although we created the index inside the huggingface dataset, it can still be accessed through the `.faiss_index` property.  \n",
    "We can use it for [more operations and methods](https://github.com/facebookresearch/faiss/wiki/Special-operations-on-indexes), such as [Range Search](https://github.com/facebookresearch/faiss/wiki/Special-operations-on-indexes#range-search)"
   ]
  },
  {
   "cell_type": "code",
   "execution_count": null,
   "metadata": {
    "colab": {
     "base_uri": "https://localhost:8080/"
    },
    "executionInfo": {
     "elapsed": 44,
     "status": "ok",
     "timestamp": 1743849442545,
     "user": {
      "displayName": "Liad Magen",
      "userId": "15660935015597213280"
     },
     "user_tz": -120
    },
    "id": "ci0_lJ-dhru9",
    "outputId": "26f6dcb6-cfea-4862-e5da-0650f2444d8c"
   },
   "outputs": [
    {
     "data": {
      "text/plain": [
       "<faiss.swigfaiss_avx2.IndexFlat; proxy of <Swig Object of type 'faiss::IndexFlat *' at 0x7b91dcc41e90> >"
      ]
     },
     "execution_count": 20,
     "metadata": {},
     "output_type": "execute_result"
    }
   ],
   "source": [
    "faiss_index = ds_with_embeddings.get_index('embeddings').faiss_index\n",
    "faiss_index"
   ]
  },
  {
   "cell_type": "code",
   "execution_count": null,
   "metadata": {
    "colab": {
     "base_uri": "https://localhost:8080/"
    },
    "executionInfo": {
     "elapsed": 149,
     "status": "ok",
     "timestamp": 1743759612034,
     "user": {
      "displayName": "Liad Magen",
      "userId": "15660935015597213280"
     },
     "user_tz": -120
    },
    "id": "vp5_rdFJCrjt",
    "outputId": "354310f4-0bd0-4e68-862a-a50a18282c5f"
   },
   "outputs": [
    {
     "data": {
      "text/plain": [
       "(array([0, 0], dtype=uint64), array([], dtype=float32), array([], dtype=int64))"
      ]
     },
     "execution_count": 48,
     "metadata": {},
     "output_type": "execute_result"
    }
   ],
   "source": [
    "# access the index with .faiss_index\n",
    "faiss_index = ds_with_embeddings.get_index('embeddings').faiss_index\n",
    "\n",
    "question = \"murder\"\n",
    "question_embedding = q_encoder(**q_tokenizer(question, return_tensors=\"pt\"))[0][0].numpy()\n",
    "\n",
    "# use it for more complicated methods - e.g., range_search\n",
    "limits, distances, indices = faiss_index.range_search(x=question_embedding.reshape(1, -1), thresh=0.5)\n",
    "\n",
    "limits, distances, indices"
   ]
  },
  {
   "cell_type": "code",
   "execution_count": null,
   "metadata": {
    "colab": {
     "base_uri": "https://localhost:8080/"
    },
    "executionInfo": {
     "elapsed": 15,
     "status": "ok",
     "timestamp": 1743849878829,
     "user": {
      "displayName": "Liad Magen",
      "userId": "15660935015597213280"
     },
     "user_tz": -120
    },
    "id": "Y30TmQ27LCNe",
    "outputId": "2a713053-ded6-42d1-f3e8-44e8e2bc728f"
   },
   "outputs": [
    {
     "data": {
      "text/plain": [
       "(array([[94.92376 , 95.6583  , 98.723434]], dtype=float32),\n",
       " array([[50, 34,  0]]))"
      ]
     },
     "execution_count": 21,
     "metadata": {},
     "output_type": "execute_result"
    }
   ],
   "source": [
    "distances, indices = faiss_index.search(x=question_embedding.reshape(1, -1), k=3)\n",
    "distances, indices\n"
   ]
  },
  {
   "cell_type": "markdown",
   "metadata": {
    "id": "Qfv263u6Il_h"
   },
   "source": [
    "## Disk operations\n",
    "How to save and load the index:"
   ]
  },
  {
   "cell_type": "code",
   "execution_count": null,
   "metadata": {
    "id": "XUKONz9gDMJF"
   },
   "outputs": [],
   "source": [
    "# to save:\n",
    "ds_index_path = 'my_index.faiss'\n",
    "ds_index_name = 'embeddings'\n",
    "\n",
    "ds_with_embeddings.save_faiss_index(ds_index_name, ds_index_path)"
   ]
  },
  {
   "cell_type": "code",
   "execution_count": null,
   "metadata": {
    "id": "h9poyG7BDM1_"
   },
   "outputs": [],
   "source": [
    "# to load:\n",
    "ds = load_dataset('crime_and_punish', split='train[:100]')\n",
    "ds.load_faiss_index(ds_index_name, ds_index_path)"
   ]
  }
 ],
 "metadata": {
  "colab": {
   "provenance": [
    {
     "file_id": "1tzNfvfy8fRfELxEE230Nf26xuNV5ZvcU",
     "timestamp": 1743943584137
    }
   ]
  },
  "kernelspec": {
   "display_name": "Python 3",
   "name": "python3"
  },
  "language_info": {
   "name": "python"
  }
 },
 "nbformat": 4,
 "nbformat_minor": 0
}
