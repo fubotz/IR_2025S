{
 "cells": [
  {
   "cell_type": "code",
   "id": "initial_id",
   "metadata": {
    "collapsed": true,
    "ExecuteTime": {
     "end_time": "2025-04-24T07:57:19.657492Z",
     "start_time": "2025-04-24T07:57:17.540155Z"
    }
   },
   "source": [
    "import pandas as pd\n",
    "\n",
    "df = pd.read_json(\"../data/processed/hp_200w_chunks_bm25.jsonl\", lines=True)\n",
    "print(df.head())"
   ],
   "outputs": [
    {
     "name": "stdout",
     "output_type": "stream",
     "text": [
      "                                           book  book_number  \\\n",
      "0  HP 1 - Harry Potter and the Sorcerer's Stone            1   \n",
      "1  HP 1 - Harry Potter and the Sorcerer's Stone            1   \n",
      "2  HP 1 - Harry Potter and the Sorcerer's Stone            1   \n",
      "3  HP 1 - Harry Potter and the Sorcerer's Stone            1   \n",
      "4  HP 1 - Harry Potter and the Sorcerer's Stone            1   \n",
      "\n",
      "  chapter_str_number  chapter_int_number      chapter_title  chunk_index  \\\n",
      "0        CHAPTER ONE                   1  THE BOY WHO LIVED            0   \n",
      "1        CHAPTER ONE                   1  THE BOY WHO LIVED            1   \n",
      "2        CHAPTER ONE                   1  THE BOY WHO LIVED            2   \n",
      "3        CHAPTER ONE                   1  THE BOY WHO LIVED            3   \n",
      "4        CHAPTER ONE                   1  THE BOY WHO LIVED            4   \n",
      "\n",
      "                                          chunk_text  \n",
      "0  Mr. and Mrs. Dursley, of number four, Privet D...  \n",
      "1  Mrs. Potter was Mrs. Dursley’s sister, but the...  \n",
      "2  At half past eight, Mr. Dursley picked up his ...  \n",
      "3  Mr. Dursley gave himself a little shake and pu...  \n",
      "4  The traffic moved on and a few minutes later, ...  \n"
     ]
    }
   ],
   "execution_count": 1
  }
 ],
 "metadata": {
  "kernelspec": {
   "display_name": "Python 3",
   "language": "python",
   "name": "python3"
  },
  "language_info": {
   "codemirror_mode": {
    "name": "ipython",
    "version": 2
   },
   "file_extension": ".py",
   "mimetype": "text/x-python",
   "name": "python",
   "nbconvert_exporter": "python",
   "pygments_lexer": "ipython2",
   "version": "2.7.6"
  }
 },
 "nbformat": 4,
 "nbformat_minor": 5
}
