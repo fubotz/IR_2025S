{
 "cells": [
  {
   "cell_type": "code",
   "id": "initial_id",
   "metadata": {
    "collapsed": true,
    "ExecuteTime": {
     "end_time": "2025-05-09T17:16:55.930980Z",
     "start_time": "2025-05-09T17:16:55.800301Z"
    }
   },
   "source": [
    "import pandas as pd\n",
    "from pathlib import Path\n",
    "\n",
    "notebook_dir = Path().resolve()\n",
    "\n",
    "# project root = IR_2025S/\n",
    "root_dir = notebook_dir.parents[1]      # IR_2025S/\n",
    "\n",
    "raw_path = root_dir/\"IR_project\"/\"data\"/\"raw\"\n",
    "processed_path = root_dir/\"IR_project\"/\"data\"/\"processed\"\n",
    "\n",
    "json_path = processed_path/\"dataset.json\"\n",
    "jsonl_path = processed_path/\"dataset.jsonl\"\n",
    "\n",
    "df = pd.read_json(json_path)\n",
    "df.head"
   ],
   "outputs": [
    {
     "data": {
      "text/plain": [
       "<bound method NDFrame.head of      chapter_id                                          book  book_number  \\\n",
       "0            11  HP 1 - Harry Potter and the Sorcerer's Stone            1   \n",
       "1            12  HP 1 - Harry Potter and the Sorcerer's Stone            1   \n",
       "2            13  HP 1 - Harry Potter and the Sorcerer's Stone            1   \n",
       "3            14  HP 1 - Harry Potter and the Sorcerer's Stone            1   \n",
       "4            15  HP 1 - Harry Potter and the Sorcerer's Stone            1   \n",
       "..          ...                                           ...          ...   \n",
       "193         732   HP 7 - Harry Potter and the Deathly Hallows            7   \n",
       "194         733   HP 7 - Harry Potter and the Deathly Hallows            7   \n",
       "195         734   HP 7 - Harry Potter and the Deathly Hallows            7   \n",
       "196         735   HP 7 - Harry Potter and the Deathly Hallows            7   \n",
       "197         736   HP 7 - Harry Potter and the Deathly Hallows            7   \n",
       "\n",
       "       chapter_str_number  chapter_int_number           chapter_title  \\\n",
       "0             CHAPTER ONE                   1       THE BOY WHO LIVED   \n",
       "1             CHAPTER TWO                   2     THE VANISHING GLASS   \n",
       "2           CHAPTER THREE                   3     LETTERS FROM NO ONE   \n",
       "3            CHAPTER FOUR                   4  THE KEEPER OF THE KEYS   \n",
       "4            CHAPTER FIVE                   5            DIAGON ALLEY   \n",
       "..                    ...                 ...                     ...   \n",
       "193    CHAPTER THIRTY-TWO                  32           THE ELDER WAN   \n",
       "194  CHAPTER THIRTY-THREE                  33       THE PRINCE’S TALE   \n",
       "195   CHAPTER THIRTY-FOUR                  34        THE FOREST AGAIN   \n",
       "196   CHAPTER THIRTY-FIVE                  35            KING’S CROSS   \n",
       "197    CHAPTER THIRTY-SIX                  36    THE FLAW IN THE PLAN   \n",
       "\n",
       "                                                  text  \n",
       "0    Mr. and Mrs. Dursley, of number four, Privet D...  \n",
       "1    Nearly ten years had passed since the Dursleys...  \n",
       "2    The escape of the Brazilian boa constrictor ea...  \n",
       "3    BOOM. They knocked again. Dudley jerked awake....  \n",
       "4    Harry woke early the next morning. Although he...  \n",
       "..                                                 ...  \n",
       "193  The world had ended, so why had the battle not...  \n",
       "194  Harry remained kneeling at Snape’s side, simpl...  \n",
       "195  Finally, the truth. Lying with his face presse...  \n",
       "196  He lay facedown, listening to the silence. He ...  \n",
       "197  He was flying facedown on the grond again. The...  \n",
       "\n",
       "[198 rows x 7 columns]>"
      ]
     },
     "execution_count": 11,
     "metadata": {},
     "output_type": "execute_result"
    }
   ],
   "execution_count": 11
  }
 ],
 "metadata": {
  "kernelspec": {
   "display_name": "Python 3",
   "language": "python",
   "name": "python3"
  },
  "language_info": {
   "codemirror_mode": {
    "name": "ipython",
    "version": 2
   },
   "file_extension": ".py",
   "mimetype": "text/x-python",
   "name": "python",
   "nbconvert_exporter": "python",
   "pygments_lexer": "ipython2",
   "version": "2.7.6"
  }
 },
 "nbformat": 4,
 "nbformat_minor": 5
}
